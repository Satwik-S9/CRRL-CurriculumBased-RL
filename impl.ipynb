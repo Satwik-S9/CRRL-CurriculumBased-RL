{
 "cells": [
  {
   "cell_type": "code",
   "execution_count": 6,
   "metadata": {},
   "outputs": [],
   "source": [
    "import rlgo.scripts as rls\n",
    "from clgridworld.grid_world_builder import GridWorldBuilder, InitialStateParams"
   ]
  },
  {
   "cell_type": "code",
   "execution_count": 7,
   "metadata": {},
   "outputs": [
    {
     "data": {
      "text/plain": [
       "InitialStateParams(shape=(7, 7), player=(6, 5), key=None, lock=(0, 1), pit_start=(3, 2), pit_end=(3, 6))"
      ]
     },
     "execution_count": 7,
     "metadata": {},
     "output_type": "execute_result"
    }
   ],
   "source": [
    "params = InitialStateParams(shape=(7, 7), player=(6, 5), lock=(0, 1), pit_start=(3, 2), pit_end=(3, 6))\n",
    "params"
   ]
  },
  {
   "cell_type": "code",
   "execution_count": 8,
   "metadata": {},
   "outputs": [],
   "source": [
    "env = GridWorldBuilder.create(params)"
   ]
  },
  {
   "cell_type": "code",
   "execution_count": 9,
   "metadata": {},
   "outputs": [],
   "source": [
    "from types import SimpleNamespace\n",
    "from temp import initialize_curriculum\n",
    "\n",
    "args_dict = {\n",
    "    \"crl\": True,\n",
    "    \"random_crl\": False,\n",
    "    \"seed\": 1,\n",
    "    \"exp_name\": \"temp-1\",\n",
    "    \"num_envs\": 10,\n",
    "    \"num_curricula\": 10,\n",
    "    \"cl_ratio\": \"352\",\n",
    "    \"capture_video\": False\n",
    "}\n",
    "\n",
    "args = SimpleNamespace(**args_dict)\n",
    "assert len(args.cl_ratio) == 3, \"Invalid Split for easy:medium:hard division\"\n",
    "assert args.num_curricula == sum([int(c) for c in args.cl_ratio]), \"Invalid split, the sum of cr-ratio == num-curricula\""
   ]
  },
  {
   "cell_type": "code",
   "execution_count": 10,
   "metadata": {},
   "outputs": [
    {
     "name": "stderr",
     "output_type": "stream",
     "text": [
      "/home/satwik/miniconda3/envs/arm-env/lib/python3.7/site-packages/gym/core.py:173: DeprecationWarning: \u001b[33mWARN: Function `env.seed(seed)` is marked as deprecated and will be removed in the future. Please use `env.reset(seed=seed) instead.\u001b[0m\n",
      "  \"Function `env.seed(seed)` is marked as deprecated and will be removed in the future. \"\n"
     ]
    }
   ],
   "source": [
    "envs = initialize_curriculum(args)"
   ]
  },
  {
   "cell_type": "code",
   "execution_count": 11,
   "metadata": {},
   "outputs": [
    {
     "data": {
      "text/plain": [
       "defaultdict(list,\n",
       "            {'easy': [SyncVectorEnv(10), SyncVectorEnv(10), SyncVectorEnv(10)],\n",
       "             'medium': [SyncVectorEnv(10),\n",
       "              SyncVectorEnv(10),\n",
       "              SyncVectorEnv(10),\n",
       "              SyncVectorEnv(10),\n",
       "              SyncVectorEnv(10)],\n",
       "             'hard': [SyncVectorEnv(10), SyncVectorEnv(10)]})"
      ]
     },
     "execution_count": 11,
     "metadata": {},
     "output_type": "execute_result"
    }
   ],
   "source": [
    "envs"
   ]
  }
 ],
 "metadata": {
  "kernelspec": {
   "display_name": "Python 3 (ipykernel)",
   "language": "python",
   "name": "python3"
  },
  "language_info": {
   "codemirror_mode": {
    "name": "ipython",
    "version": 3
   },
   "file_extension": ".py",
   "mimetype": "text/x-python",
   "name": "python",
   "nbconvert_exporter": "python",
   "pygments_lexer": "ipython3",
   "version": "3.7.15"
  },
  "vscode": {
   "interpreter": {
    "hash": "ae1c9abaefe5d2bc47cd749509a820b9d9d239006761f0b20cb4ff86f7822ccf"
   }
  }
 },
 "nbformat": 4,
 "nbformat_minor": 2
}
